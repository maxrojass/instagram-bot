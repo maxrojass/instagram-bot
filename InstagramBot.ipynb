{
 "cells": [
  {
   "cell_type": "code",
   "execution_count": null,
   "metadata": {},
   "outputs": [],
   "source": [
    "from selenium import webdriver\n",
    "from selenium.webdriver.common.keys import Keys\n",
    "import time\n",
    "import random\n",
    "import sys\n",
    "\n",
    "\n",
    "def print_same_line(text):\n",
    "    sys.stdout.write('\\r')\n",
    "    sys.stdout.flush()\n",
    "    sys.stdout.write(text)\n",
    "    sys.stdout.flush()\n",
    "\n",
    "\n",
    "class InstagramBot:\n",
    "\n",
    "    def __init__(self, username, password):\n",
    "        self.username = username\n",
    "        self.password = password\n",
    "        self.driver = webdriver.Chrome('/Users/maxrojas/Downloads/chromedriver')\n",
    "\n",
    "    def closeBrowser(self):\n",
    "        self.driver.close()\n",
    "\n",
    "    def login(self):\n",
    "        driver = self.driver\n",
    "        driver.get(\"https://www.instagram.com/\")\n",
    "        time.sleep(2)\n",
    "        user_name_elem = driver.find_element_by_xpath(\"//input[@name='username']\")\n",
    "        user_name_elem.clear()\n",
    "        user_name_elem.send_keys(self.username)\n",
    "        passworword_elem = driver.find_element_by_xpath(\"//input[@name='password']\")\n",
    "        passworword_elem.clear()\n",
    "        passworword_elem.send_keys(self.password)\n",
    "        passworword_elem.send_keys(Keys.RETURN)\n",
    "        time.sleep(2)\n",
    "        \n",
    "        driver.get(\"https://www.instagram.com/\")\n",
    "        time.sleep(7)\n",
    "\n",
    "    def like_photo(self, hashtag):\n",
    "        driver = self.driver\n",
    "        driver.get(\"https://www.instagram.com/explore/tags/\" + hashtag + \"/\")\n",
    "        time.sleep(4)\n",
    "\n",
    "        # gathering photos\n",
    "        pic_hrefs = []\n",
    "        for i in range(1, 7):\n",
    "            try:\n",
    "                driver.execute_script(\"window.scrollTo(0, document.body.scrollHeight);\")\n",
    "                time.sleep(2)\n",
    "                # get tags\n",
    "                hrefs_in_view = driver.find_elements_by_tag_name('a')\n",
    "                # finding relevant hrefs\n",
    "                hrefs_in_view = [elem.get_attribute('href') for elem in hrefs_in_view\n",
    "                                 if '.com/p/' in elem.get_attribute('href')]\n",
    "                # building list of unique photos\n",
    "                [pic_hrefs.append(href) for href in hrefs_in_view if href not in pic_hrefs]\n",
    "                # print(\"Check: pic href length \" + str(len(pic_hrefs)))\n",
    "            except Exception:\n",
    "                continue\n",
    "\n",
    "        # Liking photos\n",
    "        unique_photos = len(pic_hrefs)\n",
    "        for pic_href in pic_hrefs:\n",
    "            driver.get(pic_href)\n",
    "            time.sleep(5)\n",
    "            driver.execute_script(\"window.scrollTo(0, document.body.scrollHeight);\")\n",
    "            try:\n",
    "                time.sleep(random.randint(2, 4))\n",
    "                like_button = lambda: driver.find_element_by_xpath('//span[@aria-label=\"Like\"]').click()\n",
    "                like_button().click()\n",
    "                follow_button = lambda: driver.find_element_by_xpath('/html/body/div[4]/div[2]/div/article/header/div[2]/div[1]/div[2]/button').click()\n",
    "                follow_button().click()\n",
    "                for second in reversed(range(0, random.randint(18, 28))):\n",
    "                    print_same_line(\"#\" + hashtag + ': unique photos left: ' + str(unique_photos)\n",
    "                                    + \" | Sleeping \" + str(second))\n",
    "                    time.sleep(1)\n",
    "            except Exception as e:\n",
    "                time.sleep(3)\n",
    "            unique_photos -= 1\n",
    "\n",
    "if __name__ == \"__main__\":\n",
    "\n",
    "    username = \"maxrojass\"\n",
    "    password = \"12nolasabes34\"\n",
    "\n",
    "    ig = InstagramBot(username, password)\n",
    "    ig.login()\n",
    "\n",
    "    hashtags = ['amazing', 'solotravel', 'adventure', 'photography', 'nofilter',\n",
    "                'porto', 'staycation', 'travelgram', 'cars', 'best', 'fun', 'happy',\n",
    "                'art', 'funny', 'oldcars', 'followme', 'follow', 'travel', 'sunsout',\n",
    "                'solotravel', 'instagood', 'instagood', 'followme', 'portugal', 'sun', 'europe',\n",
    "                'street', 'canon', 'like4like', 'studio', 'lifeisgood', 'vintage', 'photooftheday']\n",
    "\n",
    "    while True:\n",
    "        try:\n",
    "            # Choose a random tag from the list of tags\n",
    "            tag = random.choice(hashtags)\n",
    "            ig.like_photo(tag)\n",
    "        except Exception:\n",
    "            ig.closeBrowser()\n",
    "            time.sleep(60)\n",
    "            ig = InstagramBot(username, password)\n",
    "            ig.login()"
   ]
  },
  {
   "cell_type": "code",
   "execution_count": 22,
   "metadata": {},
   "outputs": [],
   "source": [
    "import instapy"
   ]
  },
  {
   "cell_type": "code",
   "execution_count": 26,
   "metadata": {},
   "outputs": [
    {
     "data": {
      "text/plain": [
       "<module 'instapy' from '/Users/maxrojas/opt/anaconda3/lib/python3.7/site-packages/instapy/__init__.py'>"
      ]
     },
     "execution_count": 26,
     "metadata": {},
     "output_type": "execute_result"
    }
   ],
   "source": [
    "instapy\n"
   ]
  },
  {
   "cell_type": "code",
   "execution_count": null,
   "metadata": {},
   "outputs": [],
   "source": []
  }
 ],
 "metadata": {
  "kernelspec": {
   "display_name": "Python 3",
   "language": "python",
   "name": "python3"
  },
  "language_info": {
   "codemirror_mode": {
    "name": "ipython",
    "version": 3
   },
   "file_extension": ".py",
   "mimetype": "text/x-python",
   "name": "python",
   "nbconvert_exporter": "python",
   "pygments_lexer": "ipython3",
   "version": "3.7.4"
  }
 },
 "nbformat": 4,
 "nbformat_minor": 2
}
